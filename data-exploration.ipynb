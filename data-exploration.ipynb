{
 "cells": [
  {
   "cell_type": "markdown",
   "metadata": {},
   "source": [
    "# Ford GoBike System Data Exploration"
   ]
  },
  {
   "cell_type": "markdown",
   "metadata": {},
   "source": [
    "This document explores a data set that includes information about individual rides made in a bike-sharing system covering the greater San Francisco Bay area in (2019)."
   ]
  },
  {
   "cell_type": "markdown",
   "metadata": {},
   "source": [
    "<hr>"
   ]
  },
  {
   "cell_type": "markdown",
   "metadata": {},
   "source": [
    "## Preliminary Wrangling"
   ]
  },
  {
   "cell_type": "code",
   "execution_count": 1,
   "metadata": {},
   "outputs": [],
   "source": [
    "# import all packages and set plots to be embedded inline\n",
    "import numpy as np\n",
    "import pandas as pd\n",
    "import matplotlib.pyplot as plt\n",
    "import seaborn as sb\n",
    "import glob\n",
    "\n",
    "%matplotlib inline"
   ]
  },
  {
   "cell_type": "markdown",
   "metadata": {},
   "source": [
    "### Gather"
   ]
  },
  {
   "cell_type": "code",
   "execution_count": 2,
   "metadata": {},
   "outputs": [
    {
     "name": "stderr",
     "output_type": "stream",
     "text": [
      "/Users/m/opt/anaconda3/lib/python3.7/site-packages/IPython/core/interactiveshell.py:3063: DtypeWarning: Columns (14) have mixed types.Specify dtype option on import or set low_memory=False.\n",
      "  interactivity=interactivity, compiler=compiler, result=result)\n",
      "/Users/m/opt/anaconda3/lib/python3.7/site-packages/IPython/core/interactiveshell.py:3063: DtypeWarning: Columns (13,14) have mixed types.Specify dtype option on import or set low_memory=False.\n",
      "  interactivity=interactivity, compiler=compiler, result=result)\n",
      "/Users/m/opt/anaconda3/lib/python3.7/site-packages/IPython/core/interactiveshell.py:3063: DtypeWarning: Columns (13) have mixed types.Specify dtype option on import or set low_memory=False.\n",
      "  interactivity=interactivity, compiler=compiler, result=result)\n"
     ]
    }
   ],
   "source": [
    "# load in the datasets (01/2019 -> 12/2019) into a pandas dataframe\n",
    "df = None\n",
    "\n",
    "for filename in sorted(glob.glob('data/*.csv')):\n",
    "    if df is None:\n",
    "        df = pd.read_csv(filename)\n",
    "    else:\n",
    "        temp = pd.read_csv(filename)\n",
    "        df = df.append(temp, ignore_index=True)"
   ]
  },
  {
   "cell_type": "markdown",
   "metadata": {},
   "source": [
    "<hr>"
   ]
  },
  {
   "cell_type": "markdown",
   "metadata": {},
   "source": [
    "### Assess"
   ]
  },
  {
   "cell_type": "code",
   "execution_count": 3,
   "metadata": {
    "scrolled": true
   },
   "outputs": [
    {
     "data": {
      "text/plain": [
       "(2506983, 15)"
      ]
     },
     "execution_count": 3,
     "metadata": {},
     "output_type": "execute_result"
    }
   ],
   "source": [
    "df.shape"
   ]
  },
  {
   "cell_type": "code",
   "execution_count": 4,
   "metadata": {},
   "outputs": [
    {
     "data": {
      "text/html": [
       "<div>\n",
       "<style scoped>\n",
       "    .dataframe tbody tr th:only-of-type {\n",
       "        vertical-align: middle;\n",
       "    }\n",
       "\n",
       "    .dataframe tbody tr th {\n",
       "        vertical-align: top;\n",
       "    }\n",
       "\n",
       "    .dataframe thead th {\n",
       "        text-align: right;\n",
       "    }\n",
       "</style>\n",
       "<table border=\"1\" class=\"dataframe\">\n",
       "  <thead>\n",
       "    <tr style=\"text-align: right;\">\n",
       "      <th></th>\n",
       "      <th>duration_sec</th>\n",
       "      <th>start_time</th>\n",
       "      <th>end_time</th>\n",
       "      <th>start_station_id</th>\n",
       "      <th>start_station_name</th>\n",
       "      <th>start_station_latitude</th>\n",
       "      <th>start_station_longitude</th>\n",
       "      <th>end_station_id</th>\n",
       "      <th>end_station_name</th>\n",
       "      <th>end_station_latitude</th>\n",
       "      <th>end_station_longitude</th>\n",
       "      <th>bike_id</th>\n",
       "      <th>user_type</th>\n",
       "      <th>bike_share_for_all_trip</th>\n",
       "      <th>rental_access_method</th>\n",
       "    </tr>\n",
       "  </thead>\n",
       "  <tbody>\n",
       "    <tr>\n",
       "      <th>0</th>\n",
       "      <td>80825</td>\n",
       "      <td>2019-01-31 17:57:44.6130</td>\n",
       "      <td>2019-02-01 16:24:49.8640</td>\n",
       "      <td>229.0</td>\n",
       "      <td>Foothill Blvd at 42nd Ave</td>\n",
       "      <td>37.775745</td>\n",
       "      <td>-122.213037</td>\n",
       "      <td>196.0</td>\n",
       "      <td>Grand Ave at Perkins St</td>\n",
       "      <td>37.808894</td>\n",
       "      <td>-122.256460</td>\n",
       "      <td>4861</td>\n",
       "      <td>Subscriber</td>\n",
       "      <td>No</td>\n",
       "      <td>NaN</td>\n",
       "    </tr>\n",
       "    <tr>\n",
       "      <th>1</th>\n",
       "      <td>65900</td>\n",
       "      <td>2019-01-31 20:58:33.8860</td>\n",
       "      <td>2019-02-01 15:16:54.1730</td>\n",
       "      <td>4.0</td>\n",
       "      <td>Cyril Magnin St at Ellis St</td>\n",
       "      <td>37.785881</td>\n",
       "      <td>-122.408915</td>\n",
       "      <td>134.0</td>\n",
       "      <td>Valencia St at 24th St</td>\n",
       "      <td>37.752428</td>\n",
       "      <td>-122.420628</td>\n",
       "      <td>5506</td>\n",
       "      <td>Subscriber</td>\n",
       "      <td>No</td>\n",
       "      <td>NaN</td>\n",
       "    </tr>\n",
       "    <tr>\n",
       "      <th>2</th>\n",
       "      <td>62633</td>\n",
       "      <td>2019-01-31 18:06:52.9240</td>\n",
       "      <td>2019-02-01 11:30:46.5300</td>\n",
       "      <td>245.0</td>\n",
       "      <td>Downtown Berkeley BART</td>\n",
       "      <td>37.870139</td>\n",
       "      <td>-122.268422</td>\n",
       "      <td>157.0</td>\n",
       "      <td>65th St at Hollis St</td>\n",
       "      <td>37.846784</td>\n",
       "      <td>-122.291376</td>\n",
       "      <td>2717</td>\n",
       "      <td>Customer</td>\n",
       "      <td>No</td>\n",
       "      <td>NaN</td>\n",
       "    </tr>\n",
       "    <tr>\n",
       "      <th>3</th>\n",
       "      <td>44680</td>\n",
       "      <td>2019-01-31 19:46:09.7190</td>\n",
       "      <td>2019-02-01 08:10:50.3180</td>\n",
       "      <td>85.0</td>\n",
       "      <td>Church St at Duboce Ave</td>\n",
       "      <td>37.770083</td>\n",
       "      <td>-122.429156</td>\n",
       "      <td>53.0</td>\n",
       "      <td>Grove St at Divisadero</td>\n",
       "      <td>37.775946</td>\n",
       "      <td>-122.437777</td>\n",
       "      <td>4557</td>\n",
       "      <td>Customer</td>\n",
       "      <td>No</td>\n",
       "      <td>NaN</td>\n",
       "    </tr>\n",
       "    <tr>\n",
       "      <th>4</th>\n",
       "      <td>60709</td>\n",
       "      <td>2019-01-31 14:19:01.5410</td>\n",
       "      <td>2019-02-01 07:10:51.0650</td>\n",
       "      <td>16.0</td>\n",
       "      <td>Steuart St at Market St</td>\n",
       "      <td>37.794130</td>\n",
       "      <td>-122.394430</td>\n",
       "      <td>28.0</td>\n",
       "      <td>The Embarcadero at Bryant St</td>\n",
       "      <td>37.787168</td>\n",
       "      <td>-122.388098</td>\n",
       "      <td>2100</td>\n",
       "      <td>Customer</td>\n",
       "      <td>No</td>\n",
       "      <td>NaN</td>\n",
       "    </tr>\n",
       "    <tr>\n",
       "      <th>...</th>\n",
       "      <td>...</td>\n",
       "      <td>...</td>\n",
       "      <td>...</td>\n",
       "      <td>...</td>\n",
       "      <td>...</td>\n",
       "      <td>...</td>\n",
       "      <td>...</td>\n",
       "      <td>...</td>\n",
       "      <td>...</td>\n",
       "      <td>...</td>\n",
       "      <td>...</td>\n",
       "      <td>...</td>\n",
       "      <td>...</td>\n",
       "      <td>...</td>\n",
       "      <td>...</td>\n",
       "    </tr>\n",
       "    <tr>\n",
       "      <th>2506978</th>\n",
       "      <td>731</td>\n",
       "      <td>2019-12-28 18:37:29</td>\n",
       "      <td>2019-12-28 18:49:40</td>\n",
       "      <td>NaN</td>\n",
       "      <td>NaN</td>\n",
       "      <td>37.809731</td>\n",
       "      <td>-122.409855</td>\n",
       "      <td>NaN</td>\n",
       "      <td>NaN</td>\n",
       "      <td>37.807573</td>\n",
       "      <td>-122.421681</td>\n",
       "      <td>719651</td>\n",
       "      <td>Subscriber</td>\n",
       "      <td>NaN</td>\n",
       "      <td>app</td>\n",
       "    </tr>\n",
       "    <tr>\n",
       "      <th>2506979</th>\n",
       "      <td>748</td>\n",
       "      <td>2019-12-28 18:37:24</td>\n",
       "      <td>2019-12-28 18:49:53</td>\n",
       "      <td>NaN</td>\n",
       "      <td>NaN</td>\n",
       "      <td>37.809768</td>\n",
       "      <td>-122.409797</td>\n",
       "      <td>NaN</td>\n",
       "      <td>NaN</td>\n",
       "      <td>37.807558</td>\n",
       "      <td>-122.421638</td>\n",
       "      <td>655411</td>\n",
       "      <td>Subscriber</td>\n",
       "      <td>NaN</td>\n",
       "      <td>app</td>\n",
       "    </tr>\n",
       "    <tr>\n",
       "      <th>2506980</th>\n",
       "      <td>1044</td>\n",
       "      <td>2019-12-26 14:25:37</td>\n",
       "      <td>2019-12-26 14:43:02</td>\n",
       "      <td>NaN</td>\n",
       "      <td>NaN</td>\n",
       "      <td>37.810183</td>\n",
       "      <td>-122.410271</td>\n",
       "      <td>NaN</td>\n",
       "      <td>NaN</td>\n",
       "      <td>37.807225</td>\n",
       "      <td>-122.408850</td>\n",
       "      <td>936881</td>\n",
       "      <td>Subscriber</td>\n",
       "      <td>NaN</td>\n",
       "      <td>app</td>\n",
       "    </tr>\n",
       "    <tr>\n",
       "      <th>2506981</th>\n",
       "      <td>326</td>\n",
       "      <td>2019-12-30 20:35:43</td>\n",
       "      <td>2019-12-30 20:41:09</td>\n",
       "      <td>NaN</td>\n",
       "      <td>NaN</td>\n",
       "      <td>37.810471</td>\n",
       "      <td>-122.417386</td>\n",
       "      <td>NaN</td>\n",
       "      <td>NaN</td>\n",
       "      <td>37.803143</td>\n",
       "      <td>-122.414373</td>\n",
       "      <td>397539</td>\n",
       "      <td>Subscriber</td>\n",
       "      <td>NaN</td>\n",
       "      <td>app</td>\n",
       "    </tr>\n",
       "    <tr>\n",
       "      <th>2506982</th>\n",
       "      <td>4023</td>\n",
       "      <td>2019-12-31 19:26:48</td>\n",
       "      <td>2019-12-31 20:33:52</td>\n",
       "      <td>NaN</td>\n",
       "      <td>NaN</td>\n",
       "      <td>37.811042</td>\n",
       "      <td>-122.418149</td>\n",
       "      <td>NaN</td>\n",
       "      <td>NaN</td>\n",
       "      <td>37.810970</td>\n",
       "      <td>-122.418054</td>\n",
       "      <td>662304</td>\n",
       "      <td>Subscriber</td>\n",
       "      <td>NaN</td>\n",
       "      <td>app</td>\n",
       "    </tr>\n",
       "  </tbody>\n",
       "</table>\n",
       "<p>2506983 rows × 15 columns</p>\n",
       "</div>"
      ],
      "text/plain": [
       "         duration_sec                start_time                  end_time  \\\n",
       "0               80825  2019-01-31 17:57:44.6130  2019-02-01 16:24:49.8640   \n",
       "1               65900  2019-01-31 20:58:33.8860  2019-02-01 15:16:54.1730   \n",
       "2               62633  2019-01-31 18:06:52.9240  2019-02-01 11:30:46.5300   \n",
       "3               44680  2019-01-31 19:46:09.7190  2019-02-01 08:10:50.3180   \n",
       "4               60709  2019-01-31 14:19:01.5410  2019-02-01 07:10:51.0650   \n",
       "...               ...                       ...                       ...   \n",
       "2506978           731       2019-12-28 18:37:29       2019-12-28 18:49:40   \n",
       "2506979           748       2019-12-28 18:37:24       2019-12-28 18:49:53   \n",
       "2506980          1044       2019-12-26 14:25:37       2019-12-26 14:43:02   \n",
       "2506981           326       2019-12-30 20:35:43       2019-12-30 20:41:09   \n",
       "2506982          4023       2019-12-31 19:26:48       2019-12-31 20:33:52   \n",
       "\n",
       "         start_station_id           start_station_name  \\\n",
       "0                   229.0    Foothill Blvd at 42nd Ave   \n",
       "1                     4.0  Cyril Magnin St at Ellis St   \n",
       "2                   245.0       Downtown Berkeley BART   \n",
       "3                    85.0      Church St at Duboce Ave   \n",
       "4                    16.0      Steuart St at Market St   \n",
       "...                   ...                          ...   \n",
       "2506978               NaN                          NaN   \n",
       "2506979               NaN                          NaN   \n",
       "2506980               NaN                          NaN   \n",
       "2506981               NaN                          NaN   \n",
       "2506982               NaN                          NaN   \n",
       "\n",
       "         start_station_latitude  start_station_longitude  end_station_id  \\\n",
       "0                     37.775745              -122.213037           196.0   \n",
       "1                     37.785881              -122.408915           134.0   \n",
       "2                     37.870139              -122.268422           157.0   \n",
       "3                     37.770083              -122.429156            53.0   \n",
       "4                     37.794130              -122.394430            28.0   \n",
       "...                         ...                      ...             ...   \n",
       "2506978               37.809731              -122.409855             NaN   \n",
       "2506979               37.809768              -122.409797             NaN   \n",
       "2506980               37.810183              -122.410271             NaN   \n",
       "2506981               37.810471              -122.417386             NaN   \n",
       "2506982               37.811042              -122.418149             NaN   \n",
       "\n",
       "                     end_station_name  end_station_latitude  \\\n",
       "0             Grand Ave at Perkins St             37.808894   \n",
       "1              Valencia St at 24th St             37.752428   \n",
       "2                65th St at Hollis St             37.846784   \n",
       "3              Grove St at Divisadero             37.775946   \n",
       "4        The Embarcadero at Bryant St             37.787168   \n",
       "...                               ...                   ...   \n",
       "2506978                           NaN             37.807573   \n",
       "2506979                           NaN             37.807558   \n",
       "2506980                           NaN             37.807225   \n",
       "2506981                           NaN             37.803143   \n",
       "2506982                           NaN             37.810970   \n",
       "\n",
       "         end_station_longitude  bike_id   user_type bike_share_for_all_trip  \\\n",
       "0                  -122.256460     4861  Subscriber                      No   \n",
       "1                  -122.420628     5506  Subscriber                      No   \n",
       "2                  -122.291376     2717    Customer                      No   \n",
       "3                  -122.437777     4557    Customer                      No   \n",
       "4                  -122.388098     2100    Customer                      No   \n",
       "...                        ...      ...         ...                     ...   \n",
       "2506978            -122.421681   719651  Subscriber                     NaN   \n",
       "2506979            -122.421638   655411  Subscriber                     NaN   \n",
       "2506980            -122.408850   936881  Subscriber                     NaN   \n",
       "2506981            -122.414373   397539  Subscriber                     NaN   \n",
       "2506982            -122.418054   662304  Subscriber                     NaN   \n",
       "\n",
       "        rental_access_method  \n",
       "0                        NaN  \n",
       "1                        NaN  \n",
       "2                        NaN  \n",
       "3                        NaN  \n",
       "4                        NaN  \n",
       "...                      ...  \n",
       "2506978                  app  \n",
       "2506979                  app  \n",
       "2506980                  app  \n",
       "2506981                  app  \n",
       "2506982                  app  \n",
       "\n",
       "[2506983 rows x 15 columns]"
      ]
     },
     "execution_count": 4,
     "metadata": {},
     "output_type": "execute_result"
    }
   ],
   "source": [
    "df"
   ]
  },
  {
   "cell_type": "code",
   "execution_count": 5,
   "metadata": {},
   "outputs": [
    {
     "data": {
      "text/html": [
       "<div>\n",
       "<style scoped>\n",
       "    .dataframe tbody tr th:only-of-type {\n",
       "        vertical-align: middle;\n",
       "    }\n",
       "\n",
       "    .dataframe tbody tr th {\n",
       "        vertical-align: top;\n",
       "    }\n",
       "\n",
       "    .dataframe thead th {\n",
       "        text-align: right;\n",
       "    }\n",
       "</style>\n",
       "<table border=\"1\" class=\"dataframe\">\n",
       "  <thead>\n",
       "    <tr style=\"text-align: right;\">\n",
       "      <th></th>\n",
       "      <th>duration_sec</th>\n",
       "      <th>start_time</th>\n",
       "      <th>end_time</th>\n",
       "      <th>start_station_id</th>\n",
       "      <th>start_station_name</th>\n",
       "      <th>start_station_latitude</th>\n",
       "      <th>start_station_longitude</th>\n",
       "      <th>end_station_id</th>\n",
       "      <th>end_station_name</th>\n",
       "      <th>end_station_latitude</th>\n",
       "      <th>end_station_longitude</th>\n",
       "      <th>bike_id</th>\n",
       "      <th>user_type</th>\n",
       "      <th>bike_share_for_all_trip</th>\n",
       "      <th>rental_access_method</th>\n",
       "    </tr>\n",
       "  </thead>\n",
       "  <tbody>\n",
       "    <tr>\n",
       "      <th>1506664</th>\n",
       "      <td>1388</td>\n",
       "      <td>2019-08-31 04:52:58.6120</td>\n",
       "      <td>2019-08-31 05:16:07.2990</td>\n",
       "      <td>213.0</td>\n",
       "      <td>32nd St at Adeline St</td>\n",
       "      <td>37.823847</td>\n",
       "      <td>-122.281193</td>\n",
       "      <td>220.0</td>\n",
       "      <td>San Pablo Ave at MLK Jr Way</td>\n",
       "      <td>37.811351</td>\n",
       "      <td>-122.273422</td>\n",
       "      <td>2807</td>\n",
       "      <td>Subscriber</td>\n",
       "      <td>Yes</td>\n",
       "      <td>NaN</td>\n",
       "    </tr>\n",
       "    <tr>\n",
       "      <th>1852426</th>\n",
       "      <td>187</td>\n",
       "      <td>2019-09-12 10:09:45.3340</td>\n",
       "      <td>2019-09-12 10:12:52.6900</td>\n",
       "      <td>114.0</td>\n",
       "      <td>Rhode Island St at 17th St</td>\n",
       "      <td>37.764478</td>\n",
       "      <td>-122.402570</td>\n",
       "      <td>102.0</td>\n",
       "      <td>Irwin St at 8th St</td>\n",
       "      <td>37.766883</td>\n",
       "      <td>-122.399579</td>\n",
       "      <td>2359</td>\n",
       "      <td>Customer</td>\n",
       "      <td>No</td>\n",
       "      <td>NaN</td>\n",
       "    </tr>\n",
       "    <tr>\n",
       "      <th>587764</th>\n",
       "      <td>437</td>\n",
       "      <td>2019-03-07 13:30:05.4500</td>\n",
       "      <td>2019-03-07 13:37:22.9720</td>\n",
       "      <td>245.0</td>\n",
       "      <td>Downtown Berkeley BART</td>\n",
       "      <td>37.870139</td>\n",
       "      <td>-122.268422</td>\n",
       "      <td>256.0</td>\n",
       "      <td>Hearst Ave at Euclid Ave</td>\n",
       "      <td>37.875112</td>\n",
       "      <td>-122.260553</td>\n",
       "      <td>6439</td>\n",
       "      <td>Customer</td>\n",
       "      <td>No</td>\n",
       "      <td>NaN</td>\n",
       "    </tr>\n",
       "    <tr>\n",
       "      <th>285367</th>\n",
       "      <td>1270</td>\n",
       "      <td>2019-02-15 17:35:11.6360</td>\n",
       "      <td>2019-02-15 17:56:22.3780</td>\n",
       "      <td>67.0</td>\n",
       "      <td>San Francisco Caltrain Station 2  (Townsend St...</td>\n",
       "      <td>37.776639</td>\n",
       "      <td>-122.395526</td>\n",
       "      <td>70.0</td>\n",
       "      <td>Central Ave at Fell St</td>\n",
       "      <td>37.773311</td>\n",
       "      <td>-122.444293</td>\n",
       "      <td>5242</td>\n",
       "      <td>Subscriber</td>\n",
       "      <td>No</td>\n",
       "      <td>NaN</td>\n",
       "    </tr>\n",
       "    <tr>\n",
       "      <th>1716671</th>\n",
       "      <td>223</td>\n",
       "      <td>2019-09-30 16:55:21.4160</td>\n",
       "      <td>2019-09-30 16:59:04.5460</td>\n",
       "      <td>182.0</td>\n",
       "      <td>19th Street BART Station</td>\n",
       "      <td>37.809013</td>\n",
       "      <td>-122.268247</td>\n",
       "      <td>182.0</td>\n",
       "      <td>19th Street BART Station</td>\n",
       "      <td>37.809013</td>\n",
       "      <td>-122.268247</td>\n",
       "      <td>1956</td>\n",
       "      <td>Subscriber</td>\n",
       "      <td>No</td>\n",
       "      <td>NaN</td>\n",
       "    </tr>\n",
       "    <tr>\n",
       "      <th>1568540</th>\n",
       "      <td>903</td>\n",
       "      <td>2019-08-22 10:42:16.4770</td>\n",
       "      <td>2019-08-22 10:57:19.5780</td>\n",
       "      <td>75.0</td>\n",
       "      <td>Market St at Franklin St</td>\n",
       "      <td>37.773793</td>\n",
       "      <td>-122.421239</td>\n",
       "      <td>14.0</td>\n",
       "      <td>Clay St at Battery St</td>\n",
       "      <td>37.795001</td>\n",
       "      <td>-122.399970</td>\n",
       "      <td>3256</td>\n",
       "      <td>Subscriber</td>\n",
       "      <td>No</td>\n",
       "      <td>NaN</td>\n",
       "    </tr>\n",
       "    <tr>\n",
       "      <th>507993</th>\n",
       "      <td>177</td>\n",
       "      <td>2019-03-16 16:21:35.7250</td>\n",
       "      <td>2019-03-16 16:24:33.5220</td>\n",
       "      <td>50.0</td>\n",
       "      <td>2nd St at Townsend St</td>\n",
       "      <td>37.780526</td>\n",
       "      <td>-122.390288</td>\n",
       "      <td>81.0</td>\n",
       "      <td>Berry St at 4th St</td>\n",
       "      <td>37.775880</td>\n",
       "      <td>-122.393170</td>\n",
       "      <td>1102</td>\n",
       "      <td>Subscriber</td>\n",
       "      <td>No</td>\n",
       "      <td>NaN</td>\n",
       "    </tr>\n",
       "    <tr>\n",
       "      <th>1383417</th>\n",
       "      <td>5304</td>\n",
       "      <td>2019-07-07 12:47:58.7390</td>\n",
       "      <td>2019-07-07 14:16:23.0420</td>\n",
       "      <td>377.0</td>\n",
       "      <td>Fell St at Stanyan St</td>\n",
       "      <td>37.771951</td>\n",
       "      <td>-122.453705</td>\n",
       "      <td>377.0</td>\n",
       "      <td>Fell St at Stanyan St</td>\n",
       "      <td>37.771951</td>\n",
       "      <td>-122.453705</td>\n",
       "      <td>1654</td>\n",
       "      <td>Customer</td>\n",
       "      <td>No</td>\n",
       "      <td>NaN</td>\n",
       "    </tr>\n",
       "  </tbody>\n",
       "</table>\n",
       "</div>"
      ],
      "text/plain": [
       "         duration_sec                start_time                  end_time  \\\n",
       "1506664          1388  2019-08-31 04:52:58.6120  2019-08-31 05:16:07.2990   \n",
       "1852426           187  2019-09-12 10:09:45.3340  2019-09-12 10:12:52.6900   \n",
       "587764            437  2019-03-07 13:30:05.4500  2019-03-07 13:37:22.9720   \n",
       "285367           1270  2019-02-15 17:35:11.6360  2019-02-15 17:56:22.3780   \n",
       "1716671           223  2019-09-30 16:55:21.4160  2019-09-30 16:59:04.5460   \n",
       "1568540           903  2019-08-22 10:42:16.4770  2019-08-22 10:57:19.5780   \n",
       "507993            177  2019-03-16 16:21:35.7250  2019-03-16 16:24:33.5220   \n",
       "1383417          5304  2019-07-07 12:47:58.7390  2019-07-07 14:16:23.0420   \n",
       "\n",
       "         start_station_id                                 start_station_name  \\\n",
       "1506664             213.0                              32nd St at Adeline St   \n",
       "1852426             114.0                         Rhode Island St at 17th St   \n",
       "587764              245.0                             Downtown Berkeley BART   \n",
       "285367               67.0  San Francisco Caltrain Station 2  (Townsend St...   \n",
       "1716671             182.0                           19th Street BART Station   \n",
       "1568540              75.0                           Market St at Franklin St   \n",
       "507993               50.0                              2nd St at Townsend St   \n",
       "1383417             377.0                              Fell St at Stanyan St   \n",
       "\n",
       "         start_station_latitude  start_station_longitude  end_station_id  \\\n",
       "1506664               37.823847              -122.281193           220.0   \n",
       "1852426               37.764478              -122.402570           102.0   \n",
       "587764                37.870139              -122.268422           256.0   \n",
       "285367                37.776639              -122.395526            70.0   \n",
       "1716671               37.809013              -122.268247           182.0   \n",
       "1568540               37.773793              -122.421239            14.0   \n",
       "507993                37.780526              -122.390288            81.0   \n",
       "1383417               37.771951              -122.453705           377.0   \n",
       "\n",
       "                    end_station_name  end_station_latitude  \\\n",
       "1506664  San Pablo Ave at MLK Jr Way             37.811351   \n",
       "1852426           Irwin St at 8th St             37.766883   \n",
       "587764      Hearst Ave at Euclid Ave             37.875112   \n",
       "285367        Central Ave at Fell St             37.773311   \n",
       "1716671     19th Street BART Station             37.809013   \n",
       "1568540        Clay St at Battery St             37.795001   \n",
       "507993            Berry St at 4th St             37.775880   \n",
       "1383417        Fell St at Stanyan St             37.771951   \n",
       "\n",
       "         end_station_longitude  bike_id   user_type bike_share_for_all_trip  \\\n",
       "1506664            -122.273422     2807  Subscriber                     Yes   \n",
       "1852426            -122.399579     2359    Customer                      No   \n",
       "587764             -122.260553     6439    Customer                      No   \n",
       "285367             -122.444293     5242  Subscriber                      No   \n",
       "1716671            -122.268247     1956  Subscriber                      No   \n",
       "1568540            -122.399970     3256  Subscriber                      No   \n",
       "507993             -122.393170     1102  Subscriber                      No   \n",
       "1383417            -122.453705     1654    Customer                      No   \n",
       "\n",
       "        rental_access_method  \n",
       "1506664                  NaN  \n",
       "1852426                  NaN  \n",
       "587764                   NaN  \n",
       "285367                   NaN  \n",
       "1716671                  NaN  \n",
       "1568540                  NaN  \n",
       "507993                   NaN  \n",
       "1383417                  NaN  "
      ]
     },
     "execution_count": 5,
     "metadata": {},
     "output_type": "execute_result"
    }
   ],
   "source": [
    "# random sample\n",
    "df.sample(8)"
   ]
  },
  {
   "cell_type": "code",
   "execution_count": 6,
   "metadata": {
    "scrolled": true
   },
   "outputs": [
    {
     "name": "stdout",
     "output_type": "stream",
     "text": [
      "<class 'pandas.core.frame.DataFrame'>\n",
      "RangeIndex: 2506983 entries, 0 to 2506982\n",
      "Data columns (total 15 columns):\n",
      " #   Column                   Dtype  \n",
      "---  ------                   -----  \n",
      " 0   duration_sec             int64  \n",
      " 1   start_time               object \n",
      " 2   end_time                 object \n",
      " 3   start_station_id         float64\n",
      " 4   start_station_name       object \n",
      " 5   start_station_latitude   float64\n",
      " 6   start_station_longitude  float64\n",
      " 7   end_station_id           float64\n",
      " 8   end_station_name         object \n",
      " 9   end_station_latitude     float64\n",
      " 10  end_station_longitude    float64\n",
      " 11  bike_id                  int64  \n",
      " 12  user_type                object \n",
      " 13  bike_share_for_all_trip  object \n",
      " 14  rental_access_method     object \n",
      "dtypes: float64(6), int64(2), object(7)\n",
      "memory usage: 286.9+ MB\n"
     ]
    }
   ],
   "source": [
    "df.info()"
   ]
  },
  {
   "cell_type": "code",
   "execution_count": 7,
   "metadata": {},
   "outputs": [
    {
     "data": {
      "text/plain": [
       "duration_sec                     0\n",
       "start_time                       0\n",
       "end_time                         0\n",
       "start_station_id             80734\n",
       "start_station_name           80133\n",
       "start_station_latitude           0\n",
       "start_station_longitude          0\n",
       "end_station_id               82902\n",
       "end_station_name             82350\n",
       "end_station_latitude             0\n",
       "end_station_longitude            0\n",
       "bike_id                          0\n",
       "user_type                        0\n",
       "bike_share_for_all_trip     243259\n",
       "rental_access_method       2386145\n",
       "dtype: int64"
      ]
     },
     "execution_count": 7,
     "metadata": {},
     "output_type": "execute_result"
    }
   ],
   "source": [
    "# check for missing values\n",
    "df.isnull().sum()"
   ]
  },
  {
   "cell_type": "code",
   "execution_count": 8,
   "metadata": {},
   "outputs": [
    {
     "data": {
      "text/plain": [
       "0"
      ]
     },
     "execution_count": 8,
     "metadata": {},
     "output_type": "execute_result"
    }
   ],
   "source": [
    "# check for duplicated rows\n",
    "df.duplicated().sum()"
   ]
  },
  {
   "cell_type": "code",
   "execution_count": 9,
   "metadata": {},
   "outputs": [
    {
     "data": {
      "text/plain": [
       "count   2506983.000000\n",
       "mean        807.648330\n",
       "std        1974.713981\n",
       "min          60.000000\n",
       "25%         359.000000\n",
       "50%         571.000000\n",
       "75%         887.000000\n",
       "max      912110.000000\n",
       "Name: duration_sec, dtype: float64"
      ]
     },
     "execution_count": 9,
     "metadata": {},
     "output_type": "execute_result"
    }
   ],
   "source": [
    "# duration_sec summary statistics\n",
    "pd.set_option('float_format', '{:f}'.format)\n",
    "df.duration_sec.describe()"
   ]
  },
  {
   "cell_type": "code",
   "execution_count": 10,
   "metadata": {},
   "outputs": [
    {
     "data": {
      "text/plain": [
       "2481276    912110\n",
       "2385537     86230\n",
       "1265667     86217\n",
       "644460      86114\n",
       "1741971     86114\n",
       "            ...  \n",
       "1486204        60\n",
       "1415886        60\n",
       "1415832        60\n",
       "1449824        60\n",
       "1421086        60\n",
       "Name: duration_sec, Length: 2506983, dtype: int64"
      ]
     },
     "execution_count": 10,
     "metadata": {},
     "output_type": "execute_result"
    }
   ],
   "source": [
    "# duration_sec sorted in descending order\n",
    "df.duration_sec.sort_values(ascending=False)"
   ]
  },
  {
   "cell_type": "markdown",
   "metadata": {},
   "source": [
    "912,110 is a very high value compared to the other values, so it will be removed later."
   ]
  },
  {
   "cell_type": "code",
   "execution_count": 11,
   "metadata": {},
   "outputs": [
    {
     "data": {
      "text/plain": [
       "array(['Subscriber', 'Customer'], dtype=object)"
      ]
     },
     "execution_count": 11,
     "metadata": {},
     "output_type": "execute_result"
    }
   ],
   "source": [
    "# unique user types\n",
    "df.user_type.unique()"
   ]
  },
  {
   "cell_type": "code",
   "execution_count": 12,
   "metadata": {},
   "outputs": [
    {
     "data": {
      "text/plain": [
       "446"
      ]
     },
     "execution_count": 12,
     "metadata": {},
     "output_type": "execute_result"
    }
   ],
   "source": [
    "# number of unique start stations\n",
    "df.start_station_name.nunique()"
   ]
  },
  {
   "cell_type": "code",
   "execution_count": 13,
   "metadata": {},
   "outputs": [
    {
     "data": {
      "text/plain": [
       "446"
      ]
     },
     "execution_count": 13,
     "metadata": {},
     "output_type": "execute_result"
    }
   ],
   "source": [
    "# number of unique end stations\n",
    "df.end_station_name.nunique()"
   ]
  },
  {
   "cell_type": "code",
   "execution_count": 14,
   "metadata": {},
   "outputs": [
    {
     "data": {
      "text/plain": [
       "11070"
      ]
     },
     "execution_count": 14,
     "metadata": {},
     "output_type": "execute_result"
    }
   ],
   "source": [
    "# number of unique bikes\n",
    "df.bike_id.nunique()"
   ]
  },
  {
   "cell_type": "markdown",
   "metadata": {},
   "source": [
    "#### Quality\n",
    "Erroneous data types (*start_time, end_time, bike_id, and user_type*)."
   ]
  },
  {
   "cell_type": "markdown",
   "metadata": {},
   "source": [
    "#### Not needed columns\n",
    "*bike_share_for_all_trip, rental_access_method, start_station_id, end_station_id, start_station_latitude, start_station_longitude, end_station_latitude, end_station_longitude*. "
   ]
  },
  {
   "cell_type": "markdown",
   "metadata": {},
   "source": [
    "<hr>"
   ]
  },
  {
   "cell_type": "markdown",
   "metadata": {},
   "source": [
    "### Clean"
   ]
  },
  {
   "cell_type": "code",
   "execution_count": 15,
   "metadata": {},
   "outputs": [],
   "source": [
    "# make a copy of the data\n",
    "df_clean = df.copy()"
   ]
  },
  {
   "cell_type": "markdown",
   "metadata": {},
   "source": [
    "**Not needed columns: *bike_share_for_all_trip, rental_access_method, start_station_id, end_station_id, start_station_latitude, start_station_longitude, end_station_latitude, end_station_longitude*.**"
   ]
  },
  {
   "cell_type": "markdown",
   "metadata": {},
   "source": [
    "##### Define"
   ]
  },
  {
   "cell_type": "markdown",
   "metadata": {},
   "source": [
    "Drop (*bike_share_for_all_trip, rental_access_method, start_station_id, end_station_id, start_station_latitude, start_station_longitude, end_station_latitude, end_station_longitude*)."
   ]
  },
  {
   "cell_type": "markdown",
   "metadata": {},
   "source": [
    "##### Code"
   ]
  },
  {
   "cell_type": "code",
   "execution_count": 16,
   "metadata": {},
   "outputs": [],
   "source": [
    "df_clean.drop(['bike_share_for_all_trip', 'rental_access_method', 'start_station_id', 'end_station_id',\n",
    "              'start_station_latitude', 'start_station_longitude', 'end_station_latitude', \n",
    "               'end_station_longitude'], axis=1, inplace=True)"
   ]
  },
  {
   "cell_type": "markdown",
   "metadata": {},
   "source": [
    "##### Test"
   ]
  },
  {
   "cell_type": "code",
   "execution_count": 17,
   "metadata": {},
   "outputs": [
    {
     "data": {
      "text/plain": [
       "['duration_sec',\n",
       " 'start_time',\n",
       " 'end_time',\n",
       " 'start_station_name',\n",
       " 'end_station_name',\n",
       " 'bike_id',\n",
       " 'user_type']"
      ]
     },
     "execution_count": 17,
     "metadata": {},
     "output_type": "execute_result"
    }
   ],
   "source": [
    "list(df_clean.columns)"
   ]
  },
  {
   "cell_type": "markdown",
   "metadata": {},
   "source": [
    "**Erroneous data types (*start_time, end_time, bike_id, and user_type*).**"
   ]
  },
  {
   "cell_type": "markdown",
   "metadata": {},
   "source": [
    "##### Define"
   ]
  },
  {
   "cell_type": "markdown",
   "metadata": {},
   "source": [
    "Convert (*start_time, end_time*) to datetime data type, (*bike_id*) to object/string data type, and (*user_type*) to categorical data type."
   ]
  },
  {
   "cell_type": "markdown",
   "metadata": {},
   "source": [
    "##### Code"
   ]
  },
  {
   "cell_type": "code",
   "execution_count": 18,
   "metadata": {},
   "outputs": [],
   "source": [
    "# to datetime\n",
    "df_clean.start_time = pd.to_datetime(df_clean.start_time)\n",
    "df_clean.end_time = pd.to_datetime(df_clean.end_time)\n",
    "\n",
    "# to object/string\n",
    "df_clean.bike_id = df_clean.bike_id.astype('str')\n",
    "\n",
    "# to category\n",
    "df_clean.user_type = df_clean.user_type.astype('category')"
   ]
  },
  {
   "cell_type": "markdown",
   "metadata": {},
   "source": [
    "##### Test"
   ]
  },
  {
   "cell_type": "code",
   "execution_count": 19,
   "metadata": {},
   "outputs": [
    {
     "data": {
      "text/plain": [
       "duration_sec                   int64\n",
       "start_time            datetime64[ns]\n",
       "end_time              datetime64[ns]\n",
       "start_station_name            object\n",
       "end_station_name              object\n",
       "bike_id                       object\n",
       "user_type                   category\n",
       "dtype: object"
      ]
     },
     "execution_count": 19,
     "metadata": {},
     "output_type": "execute_result"
    }
   ],
   "source": [
    "df_clean.dtypes"
   ]
  },
  {
   "cell_type": "code",
   "execution_count": 20,
   "metadata": {},
   "outputs": [
    {
     "data": {
      "text/plain": [
       "(2506983, 7)"
      ]
     },
     "execution_count": 20,
     "metadata": {},
     "output_type": "execute_result"
    }
   ],
   "source": [
    "df_clean.shape"
   ]
  },
  {
   "cell_type": "markdown",
   "metadata": {},
   "source": [
    "### What is the structure of your dataset?\n",
    "After a simple cleaning, the dataset contains 2,506,983 rows and 7 columns:\n",
    "- duration_sec (int).\n",
    "- start_time (datetime).\n",
    "- end_time (datetime).\n",
    "- start_station_name (object) - *446 unique stations*.\n",
    "- end_station_name (object) - *446 unique stations*.\n",
    "- bike_id (object) - *11,070 unique bikes*.\n",
    "- user_type (category) - *Subscriber, and Customer*.\n",
    "\n",
    "\n",
    "### What is/are the main feature(s) of interest in your dataset?\n",
    "- *start_time*, to find bikes usage by (month/week day/hour).\n",
    "- *user_type*, to find the differences in bikes usage between subscribers and customers.\n",
    "\n",
    "### What features in the dataset do you think will help support your investigation into your feature(s) of interest?\n",
    "All remaining  features, since not neeeded columns were dropped during the cleaning process. "
   ]
  },
  {
   "cell_type": "markdown",
   "metadata": {},
   "source": [
    "<hr>"
   ]
  },
  {
   "cell_type": "code",
   "execution_count": 21,
   "metadata": {},
   "outputs": [
    {
     "data": {
      "text/plain": [
       "86230"
      ]
     },
     "execution_count": 21,
     "metadata": {},
     "output_type": "execute_result"
    }
   ],
   "source": [
    "# remove 912,110\n",
    "df_clean = df_clean[df_clean.duration_sec != df_clean.duration_sec.max()]\n",
    "\n",
    "# test (not 912,110)\n",
    "df_clean.duration_sec.max()"
   ]
  },
  {
   "cell_type": "code",
   "execution_count": 22,
   "metadata": {},
   "outputs": [
    {
     "data": {
      "text/plain": [
       "duration_sec                   int64\n",
       "start_time            datetime64[ns]\n",
       "end_time              datetime64[ns]\n",
       "start_station_name            object\n",
       "end_station_name              object\n",
       "bike_id                       object\n",
       "user_type                   category\n",
       "start_month                    int64\n",
       "start_weekday                  int64\n",
       "start_hour                     int64\n",
       "end_hour                       int64\n",
       "duration_minutes             float64\n",
       "dtype: object"
      ]
     },
     "execution_count": 22,
     "metadata": {},
     "output_type": "execute_result"
    }
   ],
   "source": [
    "# new useful columns\n",
    "\n",
    "# from start_time\n",
    "df_clean['start_month'] = df_clean.start_time.dt.month\n",
    "df_clean['start_weekday'] = df_clean.start_time.dt.weekday \n",
    "df_clean['start_hour'] = df_clean.start_time.dt.hour\n",
    "\n",
    "# from end_time\n",
    "df_clean['end_hour'] = df_clean.end_time.dt.hour\n",
    "\n",
    "# from duration_sec\n",
    "df_clean['duration_minutes'] = df_clean['duration_sec']/60\n",
    "\n",
    "# test\n",
    "df_clean.dtypes"
   ]
  },
  {
   "cell_type": "code",
   "execution_count": 23,
   "metadata": {},
   "outputs": [
    {
     "data": {
      "text/html": [
       "<div>\n",
       "<style scoped>\n",
       "    .dataframe tbody tr th:only-of-type {\n",
       "        vertical-align: middle;\n",
       "    }\n",
       "\n",
       "    .dataframe tbody tr th {\n",
       "        vertical-align: top;\n",
       "    }\n",
       "\n",
       "    .dataframe thead th {\n",
       "        text-align: right;\n",
       "    }\n",
       "</style>\n",
       "<table border=\"1\" class=\"dataframe\">\n",
       "  <thead>\n",
       "    <tr style=\"text-align: right;\">\n",
       "      <th></th>\n",
       "      <th>duration_sec</th>\n",
       "      <th>start_time</th>\n",
       "      <th>end_time</th>\n",
       "      <th>start_station_name</th>\n",
       "      <th>end_station_name</th>\n",
       "      <th>bike_id</th>\n",
       "      <th>user_type</th>\n",
       "      <th>start_month</th>\n",
       "      <th>start_weekday</th>\n",
       "      <th>start_hour</th>\n",
       "      <th>end_hour</th>\n",
       "      <th>duration_minutes</th>\n",
       "    </tr>\n",
       "  </thead>\n",
       "  <tbody>\n",
       "    <tr>\n",
       "      <th>0</th>\n",
       "      <td>80825</td>\n",
       "      <td>2019-01-31 17:57:44.613</td>\n",
       "      <td>2019-02-01 16:24:49.864</td>\n",
       "      <td>Foothill Blvd at 42nd Ave</td>\n",
       "      <td>Grand Ave at Perkins St</td>\n",
       "      <td>4861</td>\n",
       "      <td>Subscriber</td>\n",
       "      <td>1</td>\n",
       "      <td>3</td>\n",
       "      <td>17</td>\n",
       "      <td>16</td>\n",
       "      <td>1347.083333</td>\n",
       "    </tr>\n",
       "    <tr>\n",
       "      <th>1</th>\n",
       "      <td>65900</td>\n",
       "      <td>2019-01-31 20:58:33.886</td>\n",
       "      <td>2019-02-01 15:16:54.173</td>\n",
       "      <td>Cyril Magnin St at Ellis St</td>\n",
       "      <td>Valencia St at 24th St</td>\n",
       "      <td>5506</td>\n",
       "      <td>Subscriber</td>\n",
       "      <td>1</td>\n",
       "      <td>3</td>\n",
       "      <td>20</td>\n",
       "      <td>15</td>\n",
       "      <td>1098.333333</td>\n",
       "    </tr>\n",
       "    <tr>\n",
       "      <th>2</th>\n",
       "      <td>62633</td>\n",
       "      <td>2019-01-31 18:06:52.924</td>\n",
       "      <td>2019-02-01 11:30:46.530</td>\n",
       "      <td>Downtown Berkeley BART</td>\n",
       "      <td>65th St at Hollis St</td>\n",
       "      <td>2717</td>\n",
       "      <td>Customer</td>\n",
       "      <td>1</td>\n",
       "      <td>3</td>\n",
       "      <td>18</td>\n",
       "      <td>11</td>\n",
       "      <td>1043.883333</td>\n",
       "    </tr>\n",
       "    <tr>\n",
       "      <th>3</th>\n",
       "      <td>44680</td>\n",
       "      <td>2019-01-31 19:46:09.719</td>\n",
       "      <td>2019-02-01 08:10:50.318</td>\n",
       "      <td>Church St at Duboce Ave</td>\n",
       "      <td>Grove St at Divisadero</td>\n",
       "      <td>4557</td>\n",
       "      <td>Customer</td>\n",
       "      <td>1</td>\n",
       "      <td>3</td>\n",
       "      <td>19</td>\n",
       "      <td>8</td>\n",
       "      <td>744.666667</td>\n",
       "    </tr>\n",
       "    <tr>\n",
       "      <th>4</th>\n",
       "      <td>60709</td>\n",
       "      <td>2019-01-31 14:19:01.541</td>\n",
       "      <td>2019-02-01 07:10:51.065</td>\n",
       "      <td>Steuart St at Market St</td>\n",
       "      <td>The Embarcadero at Bryant St</td>\n",
       "      <td>2100</td>\n",
       "      <td>Customer</td>\n",
       "      <td>1</td>\n",
       "      <td>3</td>\n",
       "      <td>14</td>\n",
       "      <td>7</td>\n",
       "      <td>1011.816667</td>\n",
       "    </tr>\n",
       "  </tbody>\n",
       "</table>\n",
       "</div>"
      ],
      "text/plain": [
       "   duration_sec              start_time                end_time  \\\n",
       "0         80825 2019-01-31 17:57:44.613 2019-02-01 16:24:49.864   \n",
       "1         65900 2019-01-31 20:58:33.886 2019-02-01 15:16:54.173   \n",
       "2         62633 2019-01-31 18:06:52.924 2019-02-01 11:30:46.530   \n",
       "3         44680 2019-01-31 19:46:09.719 2019-02-01 08:10:50.318   \n",
       "4         60709 2019-01-31 14:19:01.541 2019-02-01 07:10:51.065   \n",
       "\n",
       "            start_station_name              end_station_name bike_id  \\\n",
       "0    Foothill Blvd at 42nd Ave       Grand Ave at Perkins St    4861   \n",
       "1  Cyril Magnin St at Ellis St        Valencia St at 24th St    5506   \n",
       "2       Downtown Berkeley BART          65th St at Hollis St    2717   \n",
       "3      Church St at Duboce Ave        Grove St at Divisadero    4557   \n",
       "4      Steuart St at Market St  The Embarcadero at Bryant St    2100   \n",
       "\n",
       "    user_type  start_month  start_weekday  start_hour  end_hour  \\\n",
       "0  Subscriber            1              3          17        16   \n",
       "1  Subscriber            1              3          20        15   \n",
       "2    Customer            1              3          18        11   \n",
       "3    Customer            1              3          19         8   \n",
       "4    Customer            1              3          14         7   \n",
       "\n",
       "   duration_minutes  \n",
       "0       1347.083333  \n",
       "1       1098.333333  \n",
       "2       1043.883333  \n",
       "3        744.666667  \n",
       "4       1011.816667  "
      ]
     },
     "execution_count": 23,
     "metadata": {},
     "output_type": "execute_result"
    }
   ],
   "source": [
    "df_clean.head()"
   ]
  },
  {
   "cell_type": "code",
   "execution_count": 24,
   "metadata": {},
   "outputs": [],
   "source": [
    "# labels to use in plots\n",
    "month_labels = ['Jan', 'Feb', 'Mar', 'Apr', 'May', 'Jun', 'Jul', 'Aug', 'Sep', 'Oct', 'Nov', 'Dec']\n",
    "weekday_labels = ['Mon', 'Tue', 'Wed', 'Thu', 'Fri', 'Sat', 'Sun']\n",
    "\n",
    "# color to use in plots \n",
    "base_color = sb.color_palette()[0]"
   ]
  },
  {
   "cell_type": "markdown",
   "metadata": {},
   "source": [
    "<hr>"
   ]
  },
  {
   "cell_type": "markdown",
   "metadata": {},
   "source": [
    "## Univariate Exploration"
   ]
  },
  {
   "cell_type": "markdown",
   "metadata": {},
   "source": [
    "##### duration_minutes"
   ]
  },
  {
   "cell_type": "markdown",
   "metadata": {},
   "source": [
    "I will use *duration_minutes* instead of *duration_sec* because minutes are more clear than seconds."
   ]
  },
  {
   "cell_type": "code",
   "execution_count": 25,
   "metadata": {},
   "outputs": [
    {
     "data": {
      "image/png": "[encoded data removed]",
      "text/plain": [
       "<Figure size 720x360 with 1 Axes>"
      ]
     },
     "metadata": {
      "needs_background": "light"
     },
     "output_type": "display_data"
    }
   ],
   "source": [
    "# plot a histogram \n",
    "plt.figure(figsize=[10,5])\n",
    "bin_edges = np.arange(0, df_clean.duration_minutes.max()+10, 10)\n",
    "plt.hist(data = df_clean, x = 'duration_minutes', bins = bin_edges)\n",
    "plt.xlabel('duration_minutes');"
   ]
  },
  {
   "cell_type": "markdown",
   "metadata": {},
   "source": [
    "The data follows an approximately log-normal distribution, lots of points with low values, with a very long tail of data points with large values. Thus, a logarithmic scale transformation will be applied."
   ]
  },
  {
   "cell_type": "code",
   "execution_count": 26,
   "metadata": {},
   "outputs": [
    {
     "data": {
      "image/png": "[encoded data removed]",
      "text/plain": [
       "<Figure size 1080x360 with 1 Axes>"
      ]
     },
     "metadata": {
      "needs_background": "light"
     },
     "output_type": "display_data"
    }
   ],
   "source": [
    "# plot a histogram with logarithmic scale transformation\n",
    "plt.figure(figsize=[15,5])\n",
    "bin_edges = 10 ** np.arange(0.0, np.log10(df_clean.duration_minutes.max())+0.1, 0.1)\n",
    "plt.hist(data = df_clean, x = 'duration_minutes', bins = bin_edges)\n",
    "plt.xscale('log')\n",
    "tick_locs = [1, 2, 5, 10, 20, 50, 100, 200, 500, 1000]\n",
    "plt.xticks(tick_locs, tick_locs)\n",
    "plt.xlabel('duration_minutes');"
   ]
  },
  {
   "cell_type": "markdown",
   "metadata": {},
   "source": [
    "We can see from the histogram that most rides took about (8-12) minutes. And very few rides lasted more than one hour (60 minutes). "
   ]
  },
  {
   "cell_type": "markdown",
   "metadata": {},
   "source": [
    "##### start_month"
   ]
  },
  {
   "cell_type": "code",
   "execution_count": 27,
   "metadata": {},
   "outputs": [
    {
     "data": {
      "image/png": "[encoded data removed]",
      "text/plain": [
       "<Figure size 720x360 with 1 Axes>"
      ]
     },
     "metadata": {
      "needs_background": "light"
     },
     "output_type": "display_data"
    }
   ],
   "source": [
    "# plot a histogram with gaps between bars\n",
    "plt.figure(figsize=[10,5])\n",
    "bin_edges = np.arange(0.5, 12.5+1, 1)\n",
    "plt.hist(data = df_clean, x = 'start_month', bins = bin_edges, rwidth = 0.7)\n",
    "plt.xticks(np.arange(1, 12+1, 1), month_labels)\n",
    "plt.xlabel('start_month');"
   ]
  },
  {
   "cell_type": "markdown",
   "metadata": {},
   "source": [
    "Based on the plot, most rides in 2019 were in March and July, with about 250,000 rides for each.<br> On the other hand, December had the lowest number of rides with about 150,000."
   ]
  },
  {
   "cell_type": "markdown",
   "metadata": {},
   "source": [
    "##### start_weekday"
   ]
  },
  {
   "cell_type": "code",
   "execution_count": 28,
   "metadata": {},
   "outputs": [
    {
     "data": {
      "image/png": "[encoded data removed]",
      "text/plain": [
       "<Figure size 720x360 with 1 Axes>"
      ]
     },
     "metadata": {
      "needs_background": "light"
     },
     "output_type": "display_data"
    }
   ],
   "source": [
    "# plot a histogram with gaps between bars\n",
    "plt.figure(figsize=[10,5])\n",
    "bin_edges = np.arange(-0.5, 6.5+1, 1)\n",
    "plt.hist(data = df_clean, x = 'start_weekday', bins = bin_edges, rwidth = 0.7)\n",
    "plt.xticks(np.arange(0, 6+1, 1), weekday_labels)\n",
    "plt.xlabel('start_weekday');"
   ]
  },
  {
   "cell_type": "markdown",
   "metadata": {},
   "source": [
    "It's clear from the chart, bikes were mostly used on work days (Monday-Friday)."
   ]
  },
  {
   "cell_type": "markdown",
   "metadata": {},
   "source": [
    "##### start_hour"
   ]
  },
  {
   "cell_type": "code",
   "execution_count": 29,
   "metadata": {},
   "outputs": [
    {
     "data": {
      "image/png": "[encoded data removed]",
      "text/plain": [
       "<Figure size 1080x360 with 1 Axes>"
      ]
     },
     "metadata": {
      "needs_background": "light"
     },
     "output_type": "display_data"
    }
   ],
   "source": [
    "# plot a histogram with gaps between bars\n",
    "plt.figure(figsize=[15,5])\n",
    "bin_edges = np.arange(-0.5, 23.5+1, 1)\n",
    "plt.hist(data = df_clean, x = 'start_hour', bins = bin_edges, rwidth = 0.7)\n",
    "plt.xticks(np.arange(0, 23+1, 1))\n",
    "plt.xlabel('start_hour');"
   ]
  },
  {
   "cell_type": "markdown",
   "metadata": {},
   "source": [
    "We can see that the distribution is roughly bimodal (has two peaks) at 8 and 17. This might be because most work days start and end around this time."
   ]
  },
  {
   "cell_type": "markdown",
   "metadata": {},
   "source": [
    "##### end_hour"
   ]
  },
  {
   "cell_type": "code",
   "execution_count": 30,
   "metadata": {},
   "outputs": [
    {
     "data": {
      "image/png": "[encoded data removed]",
      "text/plain": [
       "<Figure size 1080x360 with 1 Axes>"
      ]
     },
     "metadata": {
      "needs_background": "light"
     },
     "output_type": "display_data"
    }
   ],
   "source": [
    "# plot a histogram with gaps between bars\n",
    "plt.figure(figsize=[15,5])\n",
    "bin_edges = np.arange(-0.5, 23.5+1, 1)\n",
    "plt.hist(data = df_clean, x = 'end_hour', bins = bin_edges, rwidth = 0.7)\n",
    "plt.xticks(np.arange(0, 23+1, 1))\n",
    "plt.xlabel('end_hour');"
   ]
  },
  {
   "cell_type": "markdown",
   "metadata": {},
   "source": [
    "The plot looks a lot like the plot above (start_hour), since we saw before that most rides didn't exceed an hour, meaning that the ride started and ended in the same hour."
   ]
  },
  {
   "cell_type": "markdown",
   "metadata": {},
   "source": [
    "##### user_type"
   ]
  },
  {
   "cell_type": "code",
   "execution_count": 31,
   "metadata": {
    "scrolled": true
   },
   "outputs": [
    {
     "data": {
      "image/png": "[encoded data removed]",
      "text/plain": [
       "<Figure size 432x288 with 1 Axes>"
      ]
     },
     "metadata": {
      "needs_background": "light"
     },
     "output_type": "display_data"
    }
   ],
   "source": [
    "# plot a bar chart\n",
    "user_cat_order = df_clean['user_type'].value_counts().index\n",
    "sb.countplot(data = df_clean, x = 'user_type', color = base_color, order = user_cat_order);"
   ]
  },
  {
   "cell_type": "code",
   "execution_count": 32,
   "metadata": {},
   "outputs": [
    {
     "data": {
      "image/png": "[encoded data removed]",
      "text/plain": [
       "<Figure size 432x288 with 1 Axes>"
      ]
     },
     "metadata": {},
     "output_type": "display_data"
    }
   ],
   "source": [
    "# plot a pie chart\n",
    "sorted_counts = df_clean['user_type'].value_counts()\n",
    "plt.pie(sorted_counts, labels = sorted_counts.index, startangle = 90,\n",
    "        counterclock = False, autopct='%1.1f%%');\n",
    "plt.axis('square');"
   ]
  },
  {
   "cell_type": "markdown",
   "metadata": {},
   "source": [
    "It's pretty clear, most rides in 2019 were made by subscribers."
   ]
  },
  {
   "cell_type": "markdown",
   "metadata": {},
   "source": [
    "##### start_station_name"
   ]
  },
  {
   "cell_type": "markdown",
   "metadata": {},
   "source": [
    "Since there are a lot of start stations (446), I will just check the top 10."
   ]
  },
  {
   "cell_type": "code",
   "execution_count": 33,
   "metadata": {
    "scrolled": true
   },
   "outputs": [
    {
     "data": {
      "image/png": "[encoded data removed]",
      "text/plain": [
       "<Figure size 1080x360 with 1 Axes>"
      ]
     },
     "metadata": {
      "needs_background": "light"
     },
     "output_type": "display_data"
    }
   ],
   "source": [
    "# plot a horizontal bar chart\n",
    "cat_order = df_clean['start_station_name'].value_counts().index[:10]\n",
    "plt.figure(figsize=[15,5])\n",
    "sb.countplot(data = df_clean, y = 'start_station_name', color = base_color, order = cat_order);"
   ]
  },
  {
   "cell_type": "markdown",
   "metadata": {},
   "source": [
    "We can see that (Market St at 10th St) and (Berry St at 4th St) were the most common start stations."
   ]
  },
  {
   "cell_type": "markdown",
   "metadata": {},
   "source": [
    "##### end_station_name"
   ]
  },
  {
   "cell_type": "markdown",
   "metadata": {},
   "source": [
    "Since there are a lot of end stations (446), I will just check the top 10."
   ]
  },
  {
   "cell_type": "code",
   "execution_count": 34,
   "metadata": {
    "scrolled": true
   },
   "outputs": [
    {
     "data": {
      "image/png": "[encoded data removed]",
      "text/plain": [
       "<Figure size 1080x360 with 1 Axes>"
      ]
     },
     "metadata": {
      "needs_background": "light"
     },
     "output_type": "display_data"
    }
   ],
   "source": [
    "# plot a horizontal bar chart\n",
    "cat_order = df_clean['end_station_name'].value_counts().index[:10]\n",
    "plt.figure(figsize=[15,5])\n",
    "sb.countplot(data = df_clean, y = 'end_station_name', color = base_color, order = cat_order);"
   ]
  },
  {
   "cell_type": "markdown",
   "metadata": {},
   "source": [
    "(San Francisco Caltrain Station 2 - Townsend St at 4th St) and (San Francisco Caltrain - Townsend St at 4th St) were the most common end stations."
   ]
  },
  {
   "cell_type": "markdown",
   "metadata": {},
   "source": [
    "##### bike_id"
   ]
  },
  {
   "cell_type": "markdown",
   "metadata": {},
   "source": [
    "Since there are a lot of bikes (11,070), I will just check the top 15."
   ]
  },
  {
   "cell_type": "code",
   "execution_count": 35,
   "metadata": {},
   "outputs": [
    {
     "data": {
      "image/png": "[encoded data removed]",
      "text/plain": [
       "<Figure size 1080x288 with 1 Axes>"
      ]
     },
     "metadata": {
      "needs_background": "light"
     },
     "output_type": "display_data"
    }
   ],
   "source": [
    "# plot a bar chart\n",
    "cat_order = df_clean['bike_id'].value_counts().index[:15]\n",
    "plt.figure(figsize=[15,4])\n",
    "sb.countplot(data = df_clean, x = 'bike_id', color = base_color, order = cat_order);"
   ]
  },
  {
   "cell_type": "markdown",
   "metadata": {},
   "source": [
    "It seems like the maximum number of uses for a single bike was around 850."
   ]
  },
  {
   "cell_type": "markdown",
   "metadata": {},
   "source": [
    "### Discuss the distribution(s) of your variable(s) of interest. Were there any unusual points? Did you need to perform any transformations?\n",
    "most rides took about (8-12) minutes. And very few rides lasted more than one hour.\n",
    "\n",
    "*start_time*\n",
    "- Based on the month: most rides were in March and July. On the other hand, December had the lowest number of rides.\n",
    "- Based on week day: bikes were mostly used on work days (Monday-Friday).\n",
    "- Based on starting hour: the distribution is roughly bimodal (has two peaks) at 8 and 17.\n",
    "\n",
    "*user_type*\n",
    "- The majority of bike users in 2019 were subscribers (80.6%).\n",
    "\n",
    "A logarithmic scale transformation was applied on *duration_minutes* hist plot, because the data follows an approximately log-normal distribution, lots of points with low values, with a very long tail of data points with large values.\n",
    "\n",
    "### Of the features you investigated, were there any unusual distributions? Did you perform any operations on the data to tidy, adjust, or change the form of the data? If so, why did you do this?\n",
    "Nothing seemed unusual, just that most rides didn't last for a long period.\n",
    "\n",
    "New columns were created:\n",
    "- *start_month*: to store the month number from *start_time*.\n",
    "- *start_weekday*: to store week day number from *start_time*.\n",
    "- *start_hour*: to store hour number from *start_time*.\n",
    "- *end_hour*: to store hour number from *end_time*.\n",
    "- *duration_minutes*: to store the duration in minutes. (was created because I believe that minutes are more clear than seconds)."
   ]
  },
  {
   "cell_type": "markdown",
   "metadata": {},
   "source": [
    "<hr>"
   ]
  },
  {
   "cell_type": "markdown",
   "metadata": {},
   "source": [
    "## Bivariate Exploration"
   ]
  },
  {
   "cell_type": "markdown",
   "metadata": {},
   "source": [
    "##### user_type vs. duration_minutes"
   ]
  },
  {
   "cell_type": "code",
   "execution_count": 36,
   "metadata": {},
   "outputs": [
    {
     "data": {
      "image/png": "[encoded data removed]",
      "text/plain": [
       "<Figure size 1152x288 with 2 Axes>"
      ]
     },
     "metadata": {
      "needs_background": "light"
     },
     "output_type": "display_data"
    }
   ],
   "source": [
    "# facetting histograms of duration_minutes against user_type\n",
    "bin_edges = 10 ** np.arange(0.0, np.log10(df_clean.duration_minutes.max())+0.1, 0.1)\n",
    "g = sb.FacetGrid(data = df_clean, col = 'user_type', height=4, aspect=2, \n",
    "                 col_order = user_cat_order, sharey=False)\n",
    "g.map(plt.hist, \"duration_minutes\", bins = bin_edges)\n",
    "plt.xscale('log')\n",
    "tick_locs = [1, 2, 5, 10, 20, 50, 100, 200, 500, 1000]\n",
    "plt.xticks(tick_locs, tick_locs);"
   ]
  },
  {
   "cell_type": "markdown",
   "metadata": {},
   "source": [
    "It seems like subscribers mostly rode bikes for (8-12) minutes, while customers mostly rode them for (10-19) minutes.<br>Also, customers rides were more likely to last more than one hour compared to subscribers. "
   ]
  },
  {
   "cell_type": "markdown",
   "metadata": {},
   "source": [
    "##### user_type vs. start_month"
   ]
  },
  {
   "cell_type": "code",
   "execution_count": 37,
   "metadata": {},
   "outputs": [
    {
     "data": {
      "image/png": "[encoded data removed]",
      "text/plain": [
       "<Figure size 1152x288 with 2 Axes>"
      ]
     },
     "metadata": {
      "needs_background": "light"
     },
     "output_type": "display_data"
    }
   ],
   "source": [
    "# facetting histograms of start_month against user_type\n",
    "bin_edges = np.arange(0.5, 12.5+1, 1)\n",
    "g = sb.FacetGrid(data = df_clean, col = 'user_type', height=4, aspect=2, \n",
    "                 col_order = user_cat_order, sharey=False)\n",
    "g.map(plt.hist, \"start_month\", bins = bin_edges, rwidth = 0.7);\n",
    "plt.xticks(np.arange(1, 12+1, 1), month_labels);"
   ]
  },
  {
   "cell_type": "markdown",
   "metadata": {},
   "source": [
    "Subscribers used bikes mostly in March and July, while customers mostly used them in December."
   ]
  },
  {
   "cell_type": "markdown",
   "metadata": {},
   "source": [
    "##### user_type vs. start_weekday"
   ]
  },
  {
   "cell_type": "code",
   "execution_count": 38,
   "metadata": {},
   "outputs": [
    {
     "data": {
      "image/png": "[encoded data removed]",
      "text/plain": [
       "<Figure size 1152x288 with 2 Axes>"
      ]
     },
     "metadata": {
      "needs_background": "light"
     },
     "output_type": "display_data"
    }
   ],
   "source": [
    "# facetting histograms of start_weekday against user_type\n",
    "bin_edges = np.arange(-0.5, 6.5+1, 1)\n",
    "g = sb.FacetGrid(data = df_clean, col = 'user_type', height=4, aspect=2, \n",
    "                 col_order = user_cat_order, sharey=False)\n",
    "g.map(plt.hist, 'start_weekday', bins = bin_edges, rwidth = 0.7);\n",
    "plt.xticks(np.arange(0, 6+1, 1), weekday_labels);"
   ]
  },
  {
   "cell_type": "markdown",
   "metadata": {},
   "source": [
    "Subscribers mostly used bikes on workdays (Monday - Friday), while customers bikes usage was about the same for the whole week with a slight increment on Friday and Saturday. "
   ]
  },
  {
   "cell_type": "markdown",
   "metadata": {},
   "source": [
    "##### user_type vs. start_hour"
   ]
  },
  {
   "cell_type": "code",
   "execution_count": 39,
   "metadata": {},
   "outputs": [
    {
     "data": {
      "image/png": "[encoded data removed]",
      "text/plain": [
       "<Figure size 1152x288 with 2 Axes>"
      ]
     },
     "metadata": {
      "needs_background": "light"
     },
     "output_type": "display_data"
    }
   ],
   "source": [
    "# facetting histograms of start_hour against user_type\n",
    "bin_edges = np.arange(-0.5, 23.5+1, 1)\n",
    "g = sb.FacetGrid(data = df_clean, col = 'user_type', height=4, aspect=2, \n",
    "                 col_order = user_cat_order, sharey=False)\n",
    "g.map(plt.hist, 'start_hour', bins = bin_edges, rwidth = 0.7);\n",
    "plt.xticks(np.arange(0, 23+1, 1));"
   ]
  },
  {
   "cell_type": "markdown",
   "metadata": {},
   "source": [
    "Most rides for subscribers started at 8 or 17. While most customer rides started at 17 or 18."
   ]
  },
  {
   "cell_type": "markdown",
   "metadata": {},
   "source": [
    "#####  duration_minutes vs. start_month"
   ]
  },
  {
   "cell_type": "markdown",
   "metadata": {},
   "source": [
    "Since most rides didn't exceed an hour, I will just keep the rides with duration_minutes <= 60 in this part, to get a more accurate duration_minutes mean."
   ]
  },
  {
   "cell_type": "code",
   "execution_count": 40,
   "metadata": {},
   "outputs": [],
   "source": [
    "df_clean_60_or_less = df_clean[df_clean.duration_minutes <= 60]"
   ]
  },
  {
   "cell_type": "code",
   "execution_count": 41,
   "metadata": {},
   "outputs": [
    {
     "data": {
      "image/png": "[encoded data removed]",
      "text/plain": [
       "<Figure size 1080x360 with 1 Axes>"
      ]
     },
     "metadata": {
      "needs_background": "light"
     },
     "output_type": "display_data"
    }
   ],
   "source": [
    "month_avg_mint = df_clean_60_or_less.groupby('start_month').duration_minutes.mean()\n",
    "\n",
    "# plot a line plot\n",
    "plt.figure(figsize=[15,5])\n",
    "sb.lineplot(x=month_avg_mint.index, y=month_avg_mint, marker='o')\n",
    "plt.xticks(np.arange(1,13), month_labels)\n",
    "plt.ylabel('Average Duration (min)');"
   ]
  },
  {
   "cell_type": "markdown",
   "metadata": {},
   "source": [
    "On average rides from June to October lasted longer than the other months."
   ]
  },
  {
   "cell_type": "markdown",
   "metadata": {},
   "source": [
    "#####  duration_minutes vs. start_weekday"
   ]
  },
  {
   "cell_type": "code",
   "execution_count": 42,
   "metadata": {
    "scrolled": false
   },
   "outputs": [
    {
     "data": {
      "image/png": "[encoded data removed]",
      "text/plain": [
       "<Figure size 1080x360 with 1 Axes>"
      ]
     },
     "metadata": {
      "needs_background": "light"
     },
     "output_type": "display_data"
    }
   ],
   "source": [
    "weekday_avg_mint = df_clean_60_or_less.groupby('start_weekday').duration_minutes.mean()\n",
    "\n",
    "# plot a line plot\n",
    "plt.figure(figsize=[15,5])\n",
    "sb.lineplot(x=weekday_avg_mint.index, y=weekday_avg_mint, marker='o')\n",
    "plt.xticks(np.arange(0,7), weekday_labels)\n",
    "plt.ylabel('Average Duration (min)');"
   ]
  },
  {
   "cell_type": "markdown",
   "metadata": {},
   "source": [
    "On average rides on the weekend (Saturday and Sunday) lasted longer than the other days."
   ]
  },
  {
   "cell_type": "markdown",
   "metadata": {},
   "source": [
    "##### bike_id vs. start_month"
   ]
  },
  {
   "cell_type": "code",
   "execution_count": 43,
   "metadata": {},
   "outputs": [
    {
     "data": {
      "image/png": "[encoded data removed]",
      "text/plain": [
       "<Figure size 1080x360 with 1 Axes>"
      ]
     },
     "metadata": {
      "needs_background": "light"
     },
     "output_type": "display_data"
    }
   ],
   "source": [
    "number_of_bikes = df_clean.groupby('start_month').bike_id.nunique()\n",
    "\n",
    "# plot a line plot\n",
    "plt.figure(figsize=[15,5])\n",
    "sb.lineplot(x=number_of_bikes.index, y=number_of_bikes, marker='o')\n",
    "plt.xticks(np.arange(1,13), month_labels)\n",
    "plt.ylabel('Total Number of Unique Bikes');"
   ]
  },
  {
   "cell_type": "markdown",
   "metadata": {},
   "source": [
    "December had the highest number of unique bikes used, and May had the lowest."
   ]
  },
  {
   "cell_type": "markdown",
   "metadata": {},
   "source": [
    "### Talk about some of the relationships you observed in this part of the investigation. How did the feature(s) of interest vary with other features in the dataset?\n",
    "**Subscribers and customers bikes usage was different:**\n",
    "- Subscribers mostly rode bikes for (8-12) minutes, while customers mostly rode them for (10-19) minutes.\n",
    "- Customers rides were more likely to last more than one hour compared to subscribers.\n",
    "- Subscribers used bikes mostly in March and July, while customers mostly used them in December.\n",
    "- Subscribers mostly used bikes on workdays (Monday - Friday), while customers bikes usage was about the same for the whole week with a slight increment on Friday and Saturday.\n",
    "- Most rides for subscribers started at 8 or 17. While most customer rides started at 17 or 18.\n",
    "\n",
    "**Average duration in minutes:**\n",
    "- Based on the month: on average rides from June to October lasted longer than the other months.\n",
    "- Based on week day: on average rides on the weekend (Saturday and Sunday) lasted longer than the other days.\n",
    "\n",
    "**Total number of unique bikes:**\n",
    "- December had the highest number of unique bikes used, and May had the lowest.\n",
    "\n",
    "\n",
    "### Did you observe any interesting relationships between the other features (not the main feature(s) of interest)?\n",
    "No."
   ]
  },
  {
   "cell_type": "markdown",
   "metadata": {},
   "source": [
    "<hr>"
   ]
  },
  {
   "cell_type": "markdown",
   "metadata": {},
   "source": [
    "## Multivariate Exploration"
   ]
  },
  {
   "cell_type": "markdown",
   "metadata": {},
   "source": [
    "#####  duration_minutes vs. start_month (for each user_type)"
   ]
  },
  {
   "cell_type": "markdown",
   "metadata": {},
   "source": [
    "Since most rides didn't exceed an hour, I will just keep the rides with duration_minutes <= 60 in this part, to get a more accurate duration_minutes mean."
   ]
  },
  {
   "cell_type": "code",
   "execution_count": 44,
   "metadata": {
    "scrolled": true
   },
   "outputs": [
    {
     "data": {
      "image/png": "[encoded data removed]",
      "text/plain": [
       "<Figure size 720x360 with 1 Axes>"
      ]
     },
     "metadata": {
      "needs_background": "light"
     },
     "output_type": "display_data"
    }
   ],
   "source": [
    "user_month_avg_mint = df_clean_60_or_less.groupby(['user_type','start_month']).duration_minutes.mean()\n",
    "user_month_avg_mint = user_month_avg_mint.reset_index()\n",
    "\n",
    "# plot a line plot with colors based on user_type\n",
    "plt.figure(figsize=[10,5])\n",
    "sb.lineplot(data = user_month_avg_mint, x='start_month', y='duration_minutes', hue='user_type', marker='o')\n",
    "plt.xticks(np.arange(1,13), month_labels)\n",
    "plt.ylabel('Average Duration (min)');"
   ]
  },
  {
   "cell_type": "markdown",
   "metadata": {},
   "source": [
    "On average customers rides lasted longer than subscribers rides in every month."
   ]
  },
  {
   "cell_type": "markdown",
   "metadata": {},
   "source": [
    "#####  duration_minutes vs. start_weekday (for each user_type)"
   ]
  },
  {
   "cell_type": "code",
   "execution_count": 45,
   "metadata": {},
   "outputs": [
    {
     "data": {
      "image/png": "[encoded data removed]",
      "text/plain": [
       "<Figure size 720x360 with 1 Axes>"
      ]
     },
     "metadata": {
      "needs_background": "light"
     },
     "output_type": "display_data"
    }
   ],
   "source": [
    "user_weekday_avg_mint = df_clean_60_or_less.groupby(['user_type','start_weekday']).duration_minutes.mean()\n",
    "user_weekday_avg_mint = user_weekday_avg_mint.reset_index()\n",
    "\n",
    "# plot a line plot with colors based on user_type\n",
    "plt.figure(figsize=[10,5])\n",
    "sb.lineplot(data = user_weekday_avg_mint, x='start_weekday', y='duration_minutes', hue='user_type', marker='o')\n",
    "plt.xticks(np.arange(0,7), weekday_labels)\n",
    "plt.ylabel('Average Duration (min)');"
   ]
  },
  {
   "cell_type": "markdown",
   "metadata": {},
   "source": [
    "On average customers rides lasted longer than subscribers rides on every week day."
   ]
  },
  {
   "cell_type": "markdown",
   "metadata": {},
   "source": [
    "### Talk about some of the relationships you observed in this part of the investigation. Were there features that strengthened each other in terms of looking at your feature(s) of interest?\n",
    "- On average customers rides lasted longer than subscribers rides in every month.\n",
    "- On average customers rides lasted longer than subscribers rides on every week day.\n",
    "\n",
    "### Were there any interesting or surprising interactions between features?\n",
    "Yes, customers were more likely to use bikes for a longer period than subscribers."
   ]
  },
  {
   "cell_type": "markdown",
   "metadata": {},
   "source": [
    "<hr>"
   ]
  },
  {
   "cell_type": "code",
   "execution_count": 46,
   "metadata": {},
   "outputs": [],
   "source": [
    "# save df_clean to a file named 2019-baywheels-tripdata.csv with no index column\n",
    "df_clean.to_csv('2019-baywheels-tripdata.csv', index=False)"
   ]
  }
 ],
 "metadata": {
  "kernelspec": {
   "display_name": "Python 3",
   "language": "python",
   "name": "python3"
  },
  "language_info": {
   "codemirror_mode": {
    "name": "ipython",
    "version": 3
   },
   "file_extension": ".py",
   "mimetype": "text/x-python",
   "name": "python",
   "nbconvert_exporter": "python",
   "pygments_lexer": "ipython3",
   "version": "3.7.7"
  }
 },
 "nbformat": 4,
 "nbformat_minor": 2
}
